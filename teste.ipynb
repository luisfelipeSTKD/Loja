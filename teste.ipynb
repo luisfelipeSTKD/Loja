{
 "cells": [
  {
   "cell_type": "code",
   "execution_count": 46,
   "metadata": {},
   "outputs": [
    {
     "name": "stdout",
     "output_type": "stream",
     "text": [
      "\n",
      "Essas são as informações que você inseriu. Cargo: aux, Salário: R$1700 e ano de nascimento: 1992.\n",
      "\n"
     ]
    }
   ],
   "source": [
    "def cadastroCliente():\n",
    "\n",
    "    nomeCliente = input('Qual o seu nome? ')\n",
    "    cargo = input('Por gentileza, insira seu cargo atual: ')\n",
    "    salario = int(input('Seu salário: '))\n",
    "    anoNascimento = int(input('E o ano de seu nascimento: '))\n",
    "    anoAtual = 2022 \n",
    "\n",
    "    print(f'\\nEssas são as informações que você inseriu. Cargo: {cargo}, Salário: R${salario} e ano de nascimento: {anoNascimento}.\\n')\n",
    "\n",
    "    return nomeCliente, anoAtual, anoNascimento, salario\n",
    "\n",
    "nomeCliente, anoAtual, anoNascimento, salario = cadastroCliente()"
   ]
  },
  {
   "cell_type": "code",
   "execution_count": 47,
   "metadata": {},
   "outputs": [
    {
     "name": "stdout",
     "output_type": "stream",
     "text": [
      "O seu limite liberado é a quantia de R$151.0\n",
      "\n",
      "Análise finalizada!\n",
      "\n"
     ]
    }
   ],
   "source": [
    "def obter_limite():\n",
    "\n",
    "    idade = anoAtual - anoNascimento\n",
    "    limiteDeGasto = (salario * (idade/1000)) + 100\n",
    "\n",
    "    print(f\"O seu limite liberado é a quantia de R${limiteDeGasto}\\n\")\n",
    "\n",
    "    print(\"Análise finalizada!\\n\")\n",
    "\n",
    "    return limiteDeGasto\n",
    "\n",
    "limiteDeGasto = obter_limite()"
   ]
  },
  {
   "cell_type": "code",
   "execution_count": 48,
   "metadata": {},
   "outputs": [],
   "source": [
    "produtosDisponiveis = ['Mesa', 'Cadeira', 'Pia']"
   ]
  },
  {
   "cell_type": "markdown",
   "metadata": {},
   "source": [
    "Coloque o código que você fez na etapa 3 dentro de uma única função chamada “verificar_produto”. Essa função terá como parâmetro de entrada o limite de gasto do cliente."
   ]
  },
  {
   "cell_type": "code",
   "execution_count": 49,
   "metadata": {},
   "outputs": [
    {
     "name": "stdout",
     "output_type": "stream",
     "text": [
      "Produto Mesa R$67.0, soma dos valores em R$67.0, limite restante R$84.0.\n",
      "Produto Pia R$45.0, soma dos valores em R$112.0, limite restante R$39.0.\n",
      "Valor final da compra: R$112.0.\n",
      "Limite restante: R$39.0\n"
     ]
    }
   ],
   "source": [
    "\n",
    "def verificarProduto(limiteDeGasto):\n",
    "\n",
    "    valorTotal = 0\n",
    "\n",
    "    while valorTotal <= limiteDeGasto:        \n",
    "\n",
    "        cadastroProduto = input(f\"Informe o produto para cadastrar, caso deseje encerrar digite FIM. \")\n",
    "\n",
    "        if cadastroProduto == \"FIM\":\n",
    "            print(f\"Valor final da compra: R${valorTotal}.\")\n",
    "            print(f\"Limite restante: R${limiteDeGasto - valorTotal}\")\n",
    "            break         \n",
    "\n",
    "        valorProduto = float(input(\"Insira o valor do produto cadastrado: \"))\n",
    "        \n",
    "        # while cadastroProduto != len(produtosDisponiveis):\n",
    "            # print(\"Produto não cadastrado\")\n",
    "\n",
    "        valorTotal = valorTotal + valorProduto\n",
    "\n",
    "        print(f\"Produto {cadastroProduto} R${valorProduto}, soma dos valores em R${valorTotal}, limite restante R${limiteDeGasto - valorTotal}.\")          \n",
    "    \n",
    "    else:\n",
    "        print(f\"Excede limite. Valor total {valorTotal}. Faltam {valorTotal - limiteDeGasto}\")        \n",
    "\n",
    "    return cadastroProduto, valorTotal, valorProduto\n",
    "\n",
    "cadastroProduto, valorTotal, valorProduto = verificarProduto(limiteDeGasto)"
   ]
  },
  {
   "cell_type": "code",
   "execution_count": 50,
   "metadata": {},
   "outputs": [
    {
     "name": "stdout",
     "output_type": "stream",
     "text": [
      "\n",
      "Parcelamento em até 3X\n"
     ]
    }
   ],
   "source": [
    "limite60 = valorTotal * 0.60\n",
    "limite90 = valorTotal * 0.90\n",
    "\n",
    "\n",
    "# if cadastroProduto in produtosDisponiveis:\n",
    "#         cadastroProduto = cadastroProduto + 1\n",
    "\n",
    "if valorTotal < limite60:\n",
    "    print(\"\\nLiberado!\")\n",
    "\n",
    "elif valorTotal >= limite60 and valorTotal <= limite90:\n",
    "    print(\"\\nPagamento em até 2X.\")\n",
    "\n",
    "else:\n",
    "    print(\"\\nParcelamento em até 3X\")"
   ]
  },
  {
   "cell_type": "code",
   "execution_count": 51,
   "metadata": {},
   "outputs": [
    {
     "name": "stdout",
     "output_type": "stream",
     "text": [
      "Desconto no produto de 23%!\n",
      "Novo valor com desconto é de R$110.88\n"
     ]
    }
   ],
   "source": [
    "def descontoNome():\n",
    "\n",
    "    lenNome = len(nomeCliente)\n",
    "\n",
    "    if (valorTotal > lenNome) and (valorTotal < anoNascimento):\n",
    "        print(f\"Desconto no produto de {lenNome}%!\")\n",
    "    else:\n",
    "        print(\"Sem desconto.\")\n",
    "\n",
    "    # Mostre também ao cliente o valor do produto com o desconto.\n",
    "\n",
    "    novoValor = valorTotal / 100\n",
    "    descNoProduto = (novoValor - valorTotal) * (-1)\n",
    "\n",
    "    print(f\"Novo valor com desconto é de R${descNoProduto}\")\n",
    "\n",
    "    return descNoProduto\n",
    "\n",
    "desconto = descontoNome()"
   ]
  },
  {
   "cell_type": "code",
   "execution_count": null,
   "metadata": {},
   "outputs": [],
   "source": []
  },
  {
   "cell_type": "code",
   "execution_count": null,
   "metadata": {},
   "outputs": [],
   "source": []
  }
 ],
 "metadata": {
  "kernelspec": {
   "display_name": "Python 3.10.4 64-bit",
   "language": "python",
   "name": "python3"
  },
  "language_info": {
   "codemirror_mode": {
    "name": "ipython",
    "version": 3
   },
   "file_extension": ".py",
   "mimetype": "text/x-python",
   "name": "python",
   "nbconvert_exporter": "python",
   "pygments_lexer": "ipython3",
   "version": "3.10.4"
  },
  "orig_nbformat": 4,
  "vscode": {
   "interpreter": {
    "hash": "323d1892a3217eb0f4db6041660d5c1546636e2d429706ca4ab8fde40b13a00b"
   }
  }
 },
 "nbformat": 4,
 "nbformat_minor": 2
}
